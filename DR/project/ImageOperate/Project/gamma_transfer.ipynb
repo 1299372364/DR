{
 "cells": [
  {
   "cell_type": "code",
   "execution_count": 1,
   "metadata": {
    "collapsed": true
   },
   "outputs": [],
   "source": [
    "# coding: utf-8 \n",
    "\"\"\"\n",
    "图像处理\n",
    "\"\"\"\n",
    "import os\n",
    "#%matplotlib inline\n",
    "import matplotlib.pyplot as plt\n",
    "from PIL import Image\n",
    "import numpy as np\n",
    "from pylab import *"
   ]
  },
  {
   "cell_type": "code",
   "execution_count": 2,
   "metadata": {},
   "outputs": [],
   "source": [
    "#获取图像文件名列表\n",
    "FindPath=\"./python/project/ImageOperate/prue_images\"  \n",
    "filenames=os.listdir(FindPath)   \n",
    "imlist=[]\n",
    "for name in filenames:  \n",
    "    filePath=os.path.join(FindPath,name)\n",
    "    imlist.append(filePath)"
   ]
  },
  {
   "cell_type": "code",
   "execution_count": 3,
   "metadata": {},
   "outputs": [],
   "source": [
    "j=np.arange(1,325)\n",
    "FindPath=\"./python/project/ImageOperate/images/\"  \n",
    "filenames=os.listdir(FindPath)   \n",
    "imlist=[]\n",
    "for name in filenames:  \n",
    "    filePath=os.path.join(FindPath,name)\n",
    "    imlist.append(filePath)"
   ]
  },
  {
   "cell_type": "code",
   "execution_count": 5,
   "metadata": {
    "collapsed": true
   },
   "outputs": [
    {
     "name": "stderr",
     "output_type": "stream",
     "text": [
      "C:\\Users\\Administrator\\AppData\\Local\\Programs\\Python\\Python36\\lib\\site-packages\\matplotlib\\pyplot.py:524: RuntimeWarning: More than 20 figures have been opened. Figures created through the pyplot interface (`matplotlib.pyplot.figure`) are retained until explicitly closed and may consume too much memory. (To control this warning, see the rcParam `figure.max_open_warning`).\n  max_open_warning, RuntimeWarning)\n"
     ]
    }
   ],
   "source": [
    "#图像预处理，去除隐私影响和黑边并且缩放到512*512\n",
    "for i in j:   \n",
    "    outfile1 = os.path.split(imlist[i-1])[0] + \"1/\"+str(i)\n",
    "    outfile2 = os.path.split(imlist[i-1])[0] + \"1/\"+str(i+324)\n",
    "    outfile3 = os.path.split(imlist[i-1])[0] + \"1/\"+str(i+648)\n",
    "    outfile4 = os.path.split(imlist[i-1])[0] + \"1/\"+str(i+972)\n",
    "    outfile5 = os.path.split(imlist[i-1])[0] + \"1/\"+str(i+1296)\n",
    "    outfile6 = os.path.split(imlist[i-1])[0] + \"1/\"+str(i+1620)\n",
    "    outfile7 = os.path.split(imlist[i-1])[0] + \"1/\"+str(i+1944)\n",
    "    im1=Image.open(imlist[i-1])\n",
    "    box=[500,000,2100,1728]\n",
    "    im2=im1.crop(box)\n",
    "    im3=im2.resize((512,512))\n",
    "    im4=im3.convert('L')\n",
    "    im4.save(outfile1+\".jpg\")\n",
    "    im5=im4.rotate(90)\n",
    "    im5.save(outfile3+\".jpg\")\n",
    "    im6=im4.rotate(180)\n",
    "    im6.save(outfile4+\".jpg\")\n",
    "    im7=im4.point(lambda i:i*1.2)\n",
    "    im7.save(outfile5+\".jpg\")"
   ]
  },
  {
   "cell_type": "code",
   "execution_count": null,
   "metadata": {},
   "outputs": [],
   "source": [
    ""
   ]
  }
 ],
 "metadata": {
  "kernelspec": {
   "display_name": "Python 3",
   "language": "python",
   "name": "python3"
  },
  "language_info": {
   "codemirror_mode": {
    "name": "ipython",
    "version": 3.0
   },
   "file_extension": ".py",
   "mimetype": "text/x-python",
   "name": "python",
   "nbconvert_exporter": "python",
   "pygments_lexer": "ipython3",
   "version": "3.6.0"
  }
 },
 "nbformat": 4,
 "nbformat_minor": 0
}