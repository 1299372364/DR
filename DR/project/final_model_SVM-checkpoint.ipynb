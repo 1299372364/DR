{
 "cells": [
  {
   "cell_type": "code",
   "execution_count": 1,
   "metadata": {
    "collapsed": true
   },
   "outputs": [],
   "source": [
    "%matplotlib inline\n",
    "import numpy as np\n",
    "import pickle\n",
    "import matplotlib.pyplot as plt\n",
    "from sklearn.preprocessing import label_binarize\n",
    "from sklearn import svm\n",
    "from sklearn import preprocessing\n",
    "from sklearn.metrics import roc_curve, auc\n",
    "import Chinese\n",
    "import quadratic_weighted_kappa as qwk"
   ]
  },
  {
   "cell_type": "code",
   "execution_count": 2,
   "metadata": {
    "collapsed": true
   },
   "outputs": [],
   "source": [
    "import pandas as pd\n",
    "import seaborn as sns\n",
    "from sklearn.metrics import confusion_matrix, classification_report\n",
    "from sklearn import manifold\n",
    "from sklearn import model_selection\n",
    "from sklearn.multiclass import OneVsRestClassifier\n",
    "import time"
   ]
  },
  {
   "cell_type": "markdown",
   "metadata": {},
   "source": [
    "# 载入原先卷积神经网络迁移学习提取出的两个文件'features.npy'、'keys.npy'，他们分别Wie图像特征数组文件和图像名称索引文件\n",
    "#我们利用feature_extraction.py提取出了一个2048维的特征向量，每个特征向量就代表了一张图片，总共有2250张图片，所以提取出来的features.npy的#形式就为（2250，2048）\n",
    "#'trainLabels4.csv'这个文件为标记储存文件，它里面储存了2250张的类别标记，形式为（2250,2）\n",
    "#0到4分别代表了糖网病的分类 (0 — 没有 DR, 1 — 轻微, 2 — 中度, 3 — 重度, 4 —增值)."
   ]
  },
  {
   "cell_type": "code",
   "execution_count": 3,
   "metadata": {},
   "outputs": [
    {
     "data": {
      "text/plain": [
       "(2250, 2250, 2250)"
      ]
     },
     "execution_count": 3,
     "metadata": {},
     "output_type": "execute_result"
    }
   ],
   "source": [
    "start=time.clock()\n",
    "keys = np.load('keys.npy')\n",
    "features = np.load('features.npy')\n",
    "labels_df = pd.read_csv('trainLabels4.csv',\n",
    "                        index_col='image')\n",
    "\n",
    "# 检查他们的样本数量是否相同\n",
    "len(keys), len(features), len(labels_df)"
   ]
  },
  {
   "cell_type": "code",
   "execution_count": 4,
   "metadata": {
    "collapsed": true
   },
   "outputs": [],
   "source": [
    "features=preprocessing.scale(features)#数据归一化\n",
    "features_df = pd.DataFrame(features, index=keys)"
   ]
  },
  {
   "cell_type": "code",
   "execution_count": 5,
   "metadata": {},
   "outputs": [
    {
     "data": {
      "text/plain": [
       "0       1.824090\n",
       "1       1.195756\n",
       "2       1.499971\n",
       "3       2.050844\n",
       "4      -1.270431\n",
       "5      -0.891447\n",
       "6       0.783885\n",
       "7      -0.227210\n",
       "8       0.629143\n",
       "9       0.008436\n",
       "10     -0.887493\n",
       "11      3.106712\n",
       "12     -0.451408\n",
       "13     -0.999634\n",
       "14      1.308938\n",
       "15      0.321879\n",
       "16      1.367557\n",
       "17     -0.697178\n",
       "18      0.162296\n",
       "19     -0.129927\n",
       "20      1.111632\n",
       "21     -0.715739\n",
       "22      0.325183\n",
       "23     -0.858538\n",
       "24      0.135457\n",
       "25      0.867291\n",
       "26     -1.051223\n",
       "27      0.341083\n",
       "28      1.544173\n",
       "29      0.061573\n",
       "          ...   \n",
       "2220   -1.389078\n",
       "2221   -0.710938\n",
       "2222    0.595525\n",
       "2223   -0.703892\n",
       "2224   -0.016421\n",
       "2225    0.956087\n",
       "2226    0.689817\n",
       "2227   -0.009613\n",
       "2228    2.387046\n",
       "2229   -0.840878\n",
       "2230   -1.169679\n",
       "2231    0.683010\n",
       "2232    4.087075\n",
       "2233    2.231886\n",
       "2234    1.005986\n",
       "2235    0.581553\n",
       "2236    0.213186\n",
       "2237    1.819766\n",
       "2238   -0.925876\n",
       "2239    0.818073\n",
       "2240    0.592271\n",
       "2241    2.735038\n",
       "2242   -0.032909\n",
       "2243   -0.575605\n",
       "2244   -0.364981\n",
       "2245   -0.481901\n",
       "2246   -0.585265\n",
       "2247   -0.152179\n",
       "2248   -0.447798\n",
       "2249   -1.167258\n",
       "Name: 5, Length: 2250, dtype: float64"
      ]
     },
     "execution_count": 5,
     "metadata": {},
     "output_type": "execute_result"
    }
   ],
   "source": [
    "features_df.reset_index(drop=True)[5]#先删除特征数据的标记"
   ]
  },
  {
   "cell_type": "code",
   "execution_count": 6,
   "metadata": {
    "collapsed": true
   },
   "outputs": [],
   "source": [
    "features_df=features_df.set_index(labels_df.index)#将特征数据的标记索引重新设置为标记数据的索引"
   ]
  },
  {
   "cell_type": "code",
   "execution_count": 7,
   "metadata": {
    "collapsed": true
   },
   "outputs": [],
   "source": [
    "df = pd.merge(features_df, labels_df, how='inner', left_index=True, right_index=True)\n",
    "#数据和标记拼接，为了下一步通过索引标记，来看每类的大小情况"
   ]
  },
  {
   "cell_type": "code",
   "execution_count": 8,
   "metadata": {},
   "outputs": [
    {
     "data": {
      "text/html": [
       "<div>\n",
       "<style>\n",
       "    .dataframe thead tr:only-child th {\n",
       "        text-align: right;\n",
       "    }\n",
       "\n",
       "    .dataframe thead th {\n",
       "        text-align: left;\n",
       "    }\n",
       "\n",
       "    .dataframe tbody tr th {\n",
       "        vertical-align: top;\n",
       "    }\n",
       "</style>\n",
       "<table border=\"1\" class=\"dataframe\">\n",
       "  <thead>\n",
       "    <tr style=\"text-align: right;\">\n",
       "      <th></th>\n",
       "      <th>0</th>\n",
       "      <th>1</th>\n",
       "      <th>2</th>\n",
       "      <th>3</th>\n",
       "      <th>4</th>\n",
       "      <th>5</th>\n",
       "      <th>6</th>\n",
       "      <th>7</th>\n",
       "      <th>8</th>\n",
       "      <th>9</th>\n",
       "      <th>...</th>\n",
       "      <th>2039</th>\n",
       "      <th>2040</th>\n",
       "      <th>2041</th>\n",
       "      <th>2042</th>\n",
       "      <th>2043</th>\n",
       "      <th>2044</th>\n",
       "      <th>2045</th>\n",
       "      <th>2046</th>\n",
       "      <th>2047</th>\n",
       "      <th>level</th>\n",
       "    </tr>\n",
       "    <tr>\n",
       "      <th>image</th>\n",
       "      <th></th>\n",
       "      <th></th>\n",
       "      <th></th>\n",
       "      <th></th>\n",
       "      <th></th>\n",
       "      <th></th>\n",
       "      <th></th>\n",
       "      <th></th>\n",
       "      <th></th>\n",
       "      <th></th>\n",
       "      <th></th>\n",
       "      <th></th>\n",
       "      <th></th>\n",
       "      <th></th>\n",
       "      <th></th>\n",
       "      <th></th>\n",
       "      <th></th>\n",
       "      <th></th>\n",
       "      <th></th>\n",
       "      <th></th>\n",
       "      <th></th>\n",
       "    </tr>\n",
       "  </thead>\n",
       "  <tbody>\n",
       "    <tr>\n",
       "      <th>1</th>\n",
       "      <td>-1.401241</td>\n",
       "      <td>-0.797363</td>\n",
       "      <td>-0.612216</td>\n",
       "      <td>-0.612643</td>\n",
       "      <td>-0.063684</td>\n",
       "      <td>1.824090</td>\n",
       "      <td>-0.413971</td>\n",
       "      <td>0.221579</td>\n",
       "      <td>0.317231</td>\n",
       "      <td>-1.822550</td>\n",
       "      <td>...</td>\n",
       "      <td>-0.458397</td>\n",
       "      <td>0.041529</td>\n",
       "      <td>-0.899428</td>\n",
       "      <td>-0.705400</td>\n",
       "      <td>-0.385065</td>\n",
       "      <td>-0.442509</td>\n",
       "      <td>-1.271377</td>\n",
       "      <td>1.174535</td>\n",
       "      <td>0.678428</td>\n",
       "      <td>4</td>\n",
       "    </tr>\n",
       "    <tr>\n",
       "      <th>2</th>\n",
       "      <td>-0.018603</td>\n",
       "      <td>-0.655881</td>\n",
       "      <td>-1.122312</td>\n",
       "      <td>-0.389670</td>\n",
       "      <td>0.190003</td>\n",
       "      <td>1.195756</td>\n",
       "      <td>-0.519471</td>\n",
       "      <td>1.075427</td>\n",
       "      <td>0.972851</td>\n",
       "      <td>-0.636372</td>\n",
       "      <td>...</td>\n",
       "      <td>-0.425484</td>\n",
       "      <td>-1.101494</td>\n",
       "      <td>0.182300</td>\n",
       "      <td>-0.854240</td>\n",
       "      <td>2.550442</td>\n",
       "      <td>0.271997</td>\n",
       "      <td>0.210893</td>\n",
       "      <td>-0.276453</td>\n",
       "      <td>-0.420053</td>\n",
       "      <td>0</td>\n",
       "    </tr>\n",
       "    <tr>\n",
       "      <th>3</th>\n",
       "      <td>2.008005</td>\n",
       "      <td>-0.461213</td>\n",
       "      <td>2.127219</td>\n",
       "      <td>1.402920</td>\n",
       "      <td>-0.470347</td>\n",
       "      <td>1.499971</td>\n",
       "      <td>-0.458030</td>\n",
       "      <td>-0.622681</td>\n",
       "      <td>3.241518</td>\n",
       "      <td>-1.197305</td>\n",
       "      <td>...</td>\n",
       "      <td>-0.661774</td>\n",
       "      <td>-1.474352</td>\n",
       "      <td>0.722491</td>\n",
       "      <td>0.011415</td>\n",
       "      <td>-0.483480</td>\n",
       "      <td>-0.859108</td>\n",
       "      <td>-0.369036</td>\n",
       "      <td>1.087641</td>\n",
       "      <td>0.501746</td>\n",
       "      <td>2</td>\n",
       "    </tr>\n",
       "    <tr>\n",
       "      <th>4</th>\n",
       "      <td>-0.455055</td>\n",
       "      <td>-0.333050</td>\n",
       "      <td>0.256716</td>\n",
       "      <td>0.489969</td>\n",
       "      <td>1.204269</td>\n",
       "      <td>2.050844</td>\n",
       "      <td>-0.494511</td>\n",
       "      <td>1.106495</td>\n",
       "      <td>3.255103</td>\n",
       "      <td>0.648537</td>\n",
       "      <td>...</td>\n",
       "      <td>-0.536173</td>\n",
       "      <td>-0.958827</td>\n",
       "      <td>-0.460922</td>\n",
       "      <td>-0.743612</td>\n",
       "      <td>0.578585</td>\n",
       "      <td>-0.423277</td>\n",
       "      <td>-1.347652</td>\n",
       "      <td>3.172492</td>\n",
       "      <td>0.469216</td>\n",
       "      <td>0</td>\n",
       "    </tr>\n",
       "  </tbody>\n",
       "</table>\n",
       "<p>4 rows × 2049 columns</p>\n",
       "</div>"
      ],
      "text/plain": [
       "              0         1         2         3         4         5         6  \\\n",
       "image                                                                         \n",
       "1     -1.401241 -0.797363 -0.612216 -0.612643 -0.063684  1.824090 -0.413971   \n",
       "2     -0.018603 -0.655881 -1.122312 -0.389670  0.190003  1.195756 -0.519471   \n",
       "3      2.008005 -0.461213  2.127219  1.402920 -0.470347  1.499971 -0.458030   \n",
       "4     -0.455055 -0.333050  0.256716  0.489969  1.204269  2.050844 -0.494511   \n",
       "\n",
       "              7         8         9  ...        2039      2040      2041  \\\n",
       "image                                ...                                   \n",
       "1      0.221579  0.317231 -1.822550  ...   -0.458397  0.041529 -0.899428   \n",
       "2      1.075427  0.972851 -0.636372  ...   -0.425484 -1.101494  0.182300   \n",
       "3     -0.622681  3.241518 -1.197305  ...   -0.661774 -1.474352  0.722491   \n",
       "4      1.106495  3.255103  0.648537  ...   -0.536173 -0.958827 -0.460922   \n",
       "\n",
       "           2042      2043      2044      2045      2046      2047  level  \n",
       "image                                                                     \n",
       "1     -0.705400 -0.385065 -0.442509 -1.271377  1.174535  0.678428      4  \n",
       "2     -0.854240  2.550442  0.271997  0.210893 -0.276453 -0.420053      0  \n",
       "3      0.011415 -0.483480 -0.859108 -0.369036  1.087641  0.501746      2  \n",
       "4     -0.743612  0.578585 -0.423277 -1.347652  3.172492  0.469216      0  \n",
       "\n",
       "[4 rows x 2049 columns]"
      ]
     },
     "execution_count": 8,
     "metadata": {},
     "output_type": "execute_result"
    }
   ],
   "source": [
    "df.head(4)"
   ]
  },
  {
   "cell_type": "code",
   "execution_count": 9,
   "metadata": {},
   "outputs": [
    {
     "data": {
      "text/plain": [
       "0    1230\n",
       "1     300\n",
       "3     270\n",
       "2     230\n",
       "4     220\n",
       "Name: level, dtype: int64"
      ]
     },
     "execution_count": 9,
     "metadata": {},
     "output_type": "execute_result"
    }
   ],
   "source": [
    "df.level.value_counts()#观察每类数量分布情况"
   ]
  },
  {
   "cell_type": "code",
   "execution_count": 10,
   "metadata": {},
   "outputs": [
    {
     "data": {
      "text/plain": [
       "0    1230\n",
       "1     300\n",
       "3     270\n",
       "2     230\n",
       "4     220\n",
       "Name: level, dtype: int64"
      ]
     },
     "execution_count": 10,
     "metadata": {},
     "output_type": "execute_result"
    },
    {
     "data": {
      "image/png": "[encoded data removed]",
      "text/plain": [
       "<matplotlib.figure.Figure at 0x2a001bb13c8>"
      ]
     },
     "metadata": {},
     "output_type": "display_data"
    }
   ],
   "source": [
    "df.level.hist(figsize=(4,3));#每一类数量的直方图，发现分布不均匀，0类远多于其他类\n",
    "df.level.value_counts()"
   ]
  },
  {
   "cell_type": "markdown",
   "metadata": {},
   "source": [
    "# Balance classes"
   ]
  },
  {
   "cell_type": "code",
   "execution_count": 11,
   "metadata": {},
   "outputs": [
    {
     "data": {
      "text/plain": [
       "1230"
      ]
     },
     "execution_count": 11,
     "metadata": {},
     "output_type": "execute_result"
    }
   ],
   "source": [
    "max_class = df.level.value_counts().max() # number of samples in smallest class\n",
    "max_class"
   ]
  },
  {
   "cell_type": "code",
   "execution_count": 12,
   "metadata": {},
   "outputs": [
    {
     "data": {
      "text/plain": [
       "((2250, 2048), (2250,))"
      ]
     },
     "execution_count": 12,
     "metadata": {},
     "output_type": "execute_result"
    }
   ],
   "source": [
    "feature_cols = df.columns[:-1]  # 提取出非标签列\n",
    "X = df[feature_cols].values#特征向量\n",
    "y = df['level'].values#标签\n",
    "X.shape, y.shape#观察他们的形式是否匹配"
   ]
  },
  {
   "cell_type": "markdown",
   "metadata": {},
   "source": [
    "#对五个类做简单随机抽样，使得每类获得相等的样本。"
   ]
  },
  {
   "cell_type": "code",
   "execution_count": 13,
   "metadata": {},
   "outputs": [
    {
     "data": {
      "text/plain": [
       "3    1230\n",
       "2    1230\n",
       "1    1230\n",
       "4    1230\n",
       "0    1230\n",
       "dtype: int64"
      ]
     },
     "execution_count": 13,
     "metadata": {},
     "output_type": "execute_result"
    }
   ],
   "source": [
    "np.random.seed(42)\n",
    "max_class = pd.Series(y).value_counts()[0] # 选取最大分类\n",
    "all_idx = np.arange(len(X))\n",
    "bal_idx = np.ravel([np.random.choice(all_idx[y==label], size=max_class,replace=True) \n",
    "                    for label in set(y)])#使得所有类别数都为最大数，消除类别数量差异过大的影响\n",
    "\n",
    "# 重新匹配特征向量与标签\n",
    "X_bal = X[bal_idx]\n",
    "y_bal = y[bal_idx]\n",
    "\n",
    "# 检查是否所有类的数量都一致\n",
    "pd.Series(y_bal).value_counts()"
   ]
  },
  {
   "cell_type": "markdown",
   "metadata": {},
   "source": [
    "# 利用 t-SNE来可视化拟合结果\n",
    "#我发现t-SNE是一个很好的方法来检查高维特征是否分离成容易识别的类。"
   ]
  },
  {
   "cell_type": "code",
   "execution_count": 14,
   "metadata": {},
   "outputs": [
    {
     "data": {
      "text/plain": [
       "array([0, 0, 0, ..., 4, 4, 4], dtype=int64)"
      ]
     },
     "execution_count": 14,
     "metadata": {},
     "output_type": "execute_result"
    }
   ],
   "source": [
    "y_bal"
   ]
  },
  {
   "cell_type": "code",
   "execution_count": 15,
   "metadata": {
    "collapsed": true
   },
   "outputs": [],
   "source": [
    "tsne = manifold.TSNE(n_components=2, init='random', perplexity=30, \n",
    "                     early_exaggeration=8, random_state=42)\n",
    "X_tsne = tsne.fit_transform(X_bal)#模型拟合"
   ]
  },
  {
   "cell_type": "markdown",
   "metadata": {},
   "source": [
    "## 创建DataFrame进行绘图"
   ]
  },
  {
   "cell_type": "code",
   "execution_count": 16,
   "metadata": {
    "collapsed": true
   },
   "outputs": [],
   "source": [
    "legend_map = {0:'No DR', 1:'Mild', 2:'Moderate', 3:'Severe', 4:'Proliferative'}\n",
    "f = np.vectorize(lambda x: legend_map[x])\n",
    "df_tsne = pd.DataFrame({'X0': X_tsne[:,0], 'X1': X_tsne[:,1], 'Level': f(y_bal)})"
   ]
  },
  {
   "cell_type": "markdown",
   "metadata": {},
   "source": [
    "#接下来画t-SNE图"
   ]
  },
  {
   "cell_type": "code",
   "execution_count": 17,
   "metadata": {},
   "outputs": [
    {
     "data": {
      "image/png": "[encoded data removed]",
      "text/plain": [
       "<matplotlib.figure.Figure at 0x2a003e92e80>"
      ]
     },
     "metadata": {},
     "output_type": "display_data"
    }
   ],
   "source": [
    "pal = sns.cubehelix_palette(n_colors=5, light=1.0, rot=0.0, start=2.8, hue=1.0)\n",
    "sns.lmplot(data=df_tsne, x='X0', y='X1', hue='Level', \n",
    "           size=5, fit_reg=False, palette=pal, legend_out=True,\n",
    "           scatter_kws={'s':20, 'edgecolors':'gray', 'linewidths':0.5, 'alpha':0.9});\n",
    "Chinese.set_ch()\n",
    "plt.title(u'通过t-SNE图来可视化SVM模型的深层特征分布情况')\n",
    "plt.xlabel('$X_0$');\n",
    "plt.ylabel('$X_1$');"
   ]
  },
  {
   "cell_type": "code",
   "execution_count": 18,
   "metadata": {},
   "outputs": [
    {
     "data": {
      "text/plain": [
       "<matplotlib.figure.Figure at 0x2a001f037b8>"
      ]
     },
     "metadata": {},
     "output_type": "display_data"
    }
   ],
   "source": [
    "plt.savefig(\"F:/desktop/t_SNE_SVM.jpg\")"
   ]
  },
  {
   "cell_type": "code",
   "execution_count": 19,
   "metadata": {},
   "outputs": [
    {
     "data": {
      "text/plain": [
       "((4305, 2048), (4305,), (1845, 2048), (1845,))"
      ]
     },
     "execution_count": 19,
     "metadata": {},
     "output_type": "execute_result"
    }
   ],
   "source": [
    "X_train, X_test, y_train, y_test = model_selection.train_test_split(X_bal, y_bal, test_size=0.3,\n",
    "                                                                    stratify=y_bal, random_state=42)\n",
    "X_train.shape, y_train.shape, X_test.shape, y_test.shape"
   ]
  },
  {
   "cell_type": "markdown",
   "metadata": {},
   "source": [
    "# 建立多分类SVM模型"
   ]
  },
  {
   "cell_type": "code",
   "execution_count": 20,
   "metadata": {},
   "outputs": [
    {
     "data": {
      "text/plain": [
       "OneVsRestClassifier(estimator=SVC(C=1, cache_size=200, class_weight='balanced', coef0=0.0,\n",
       "  decision_function_shape=None, degree=3, gamma='auto', kernel='rbf',\n",
       "  max_iter=-1, probability=False, random_state=None, shrinking=True,\n",
       "  tol=0.001, verbose=False),\n",
       "          n_jobs=1)"
      ]
     },
     "execution_count": 20,
     "metadata": {},
     "output_type": "execute_result"
    }
   ],
   "source": [
    "classifier = OneVsRestClassifier(svm.SVC(kernel='rbf',class_weight='balanced',C=1))\n",
    "classifier.fit(X_train, y_train)#模型拟合"
   ]
  },
  {
   "cell_type": "markdown",
   "metadata": {},
   "source": [
    "#with open(\"save_model/CNN_SVM_classifier.pickle\",'wb') as f:\n",
    "    pickle.dump(classifier,f)#储存分类器\n",
    "#with open(\"save_model/CNN_SVM_classifier.pickle\",'rb') as f:\n",
    "    classifier=pickle.load(f)#恢复分类器"
   ]
  },
  {
   "cell_type": "markdown",
   "metadata": {},
   "source": [
    "### 最终分类报告"
   ]
  },
  {
   "cell_type": "code",
   "execution_count": 21,
   "metadata": {},
   "outputs": [
    {
     "name": "stdout",
     "output_type": "stream",
     "text": [
      "             precision    recall  f1-score   support\n",
      "\n",
      "          0       0.81      0.75      0.78       369\n",
      "          1       0.96      0.95      0.95       369\n",
      "          2       0.86      0.89      0.88       369\n",
      "          3       0.97      0.99      0.98       369\n",
      "          4       0.86      0.88      0.87       369\n",
      "\n",
      "avg / total       0.89      0.89      0.89      1845\n",
      "\n"
     ]
    }
   ],
   "source": [
    "y_pred = classifier.predict(X_test)#预测\n",
    "print(classification_report(y_test, y_pred))"
   ]
  },
  {
   "cell_type": "markdown",
   "metadata": {},
   "source": [
    "### 混淆矩阵"
   ]
  },
  {
   "cell_type": "code",
   "execution_count": 22,
   "metadata": {},
   "outputs": [
    {
     "name": "stdout",
     "output_type": "stream",
     "text": [
      "[[276   9  39   2  43]\n",
      " [ 12 350   3   3   1]\n",
      " [ 26   1 330   3   9]\n",
      " [  1   2   0 364   2]\n",
      " [ 26   3  11   4 325]]\n"
     ]
    }
   ],
   "source": [
    "labels = [0,1,2,3,4]\n",
    "cm = confusion_matrix(y_test, y_pred, labels=labels)\n",
    "print(cm)"
   ]
  },
  {
   "cell_type": "markdown",
   "metadata": {},
   "source": [
    "#计算混合矩阵归一化到行总和，并将其显示为Seaborn的热图。"
   ]
  },
  {
   "cell_type": "code",
   "execution_count": 23,
   "metadata": {},
   "outputs": [
    {
     "data": {
      "image/png": "[encoded data removed]",
      "text/plain": [
       "<matplotlib.figure.Figure at 0x2a0150b1c88>"
      ]
     },
     "metadata": {},
     "output_type": "display_data"
    }
   ],
   "source": [
    "cm_norm = cm.astype('float') / cm.sum(axis=1)[:, np.newaxis]\n",
    "fig, ax = plt.subplots(figsize=(16, 9))\n",
    "sns.heatmap(cm_norm, square=True, annot=True, fmt='0.2f',\n",
    "            annot_kws={'fontsize':20}, cmap='Blues', \n",
    "            xticklabels=labels, yticklabels=labels);\n",
    "Chinese.set_ch()\n",
    "plt.title(u'CNN+SVM的混淆矩阵Seaborn图')\n",
    "plt.ylabel('True class');\n",
    "plt.xlabel('Predicted class');\n",
    "plt.savefig(\"F:/desktop/SeabornCNN+SVM.svg\")"
   ]
  },
  {
   "cell_type": "code",
   "execution_count": 24,
   "metadata": {},
   "outputs": [
    {
     "data": {
      "text/plain": [
       "1845"
      ]
     },
     "execution_count": 24,
     "metadata": {},
     "output_type": "execute_result"
    }
   ],
   "source": [
    "len(np.array(y_pred,'int64'))"
   ]
  },
  {
   "cell_type": "code",
   "execution_count": 25,
   "metadata": {},
   "outputs": [
    {
     "data": {
      "text/plain": [
       "array([4, 1, 2, 4, 4, 2, 0, 1, 1, 2, 0, 0, 1, 2, 2, 1, 1, 3, 1, 3, 4, 2, 1,\n",
       "       2, 1, 0, 3, 0, 0, 2, 2, 2, 4, 3, 2, 2, 4, 4, 2, 0, 3, 4, 1, 0, 3, 3,\n",
       "       4, 3, 3, 2, 1, 2, 1, 4, 2, 1, 2, 4, 4, 3, 2, 4, 0, 0, 0, 0, 3, 0, 1,\n",
       "       0, 3, 3, 2, 0, 2, 0, 4, 3, 2, 2, 2, 0, 1, 2, 0, 1, 3, 4, 1, 3, 3, 0,\n",
       "       1, 3, 3, 1, 0, 1, 3, 0, 1, 3, 4, 2, 1, 4, 3, 0, 3, 4, 3, 0, 4, 3, 1,\n",
       "       4, 4, 2, 3, 4, 4, 2, 1, 4, 0, 4, 0, 0, 0, 4, 0, 1, 0, 2, 1, 1, 4, 0,\n",
       "       0, 0, 1, 2, 3, 4, 1, 1, 4, 0, 4, 0, 0, 4, 3, 1, 3, 2, 0, 3, 1, 3, 2,\n",
       "       4, 2, 3, 3, 4, 0, 3, 3, 0, 4, 3, 3, 3, 2, 1, 4, 1, 0, 4, 2, 4, 3, 0,\n",
       "       3, 2, 0, 3, 0, 4, 1, 4, 0, 2, 0, 2, 3, 0, 4, 4, 1, 2, 1, 0, 2, 3, 2,\n",
       "       2, 4, 4, 0, 4, 0, 4, 0, 2, 4, 0, 3, 3, 3, 2, 2, 2, 1, 1, 2, 3, 0, 3,\n",
       "       0, 2, 4, 0, 4, 1, 1, 2, 2, 3, 2, 0, 1, 3, 2, 1, 1, 1, 0, 2, 0, 3, 2,\n",
       "       0, 1, 3, 3, 0, 3, 2, 3, 2, 0, 4, 2, 3, 2, 2, 2, 4, 4, 1, 4, 0, 1, 4,\n",
       "       2, 2, 0, 1, 0, 4, 4, 0, 2, 4, 3, 2, 4, 4, 3, 1, 2, 3, 0, 2, 0, 3, 4,\n",
       "       4, 1, 0, 1, 2, 2, 0, 3, 2, 3, 3, 0, 4, 0, 3, 2, 4, 4, 0, 0, 2, 1, 4,\n",
       "       3, 2, 1, 1, 0, 1, 4, 3, 4, 2, 3, 3, 0, 0, 2, 1, 2, 0, 3, 2, 1, 1, 4,\n",
       "       4, 3, 2, 4, 2, 0, 3, 1, 0, 1, 2, 2, 1, 1, 2, 1, 0, 3, 3, 2, 1, 2, 2,\n",
       "       3, 2, 1, 0, 3, 1, 3, 4, 2, 4, 2, 4, 4, 4, 3, 1, 1, 0, 0, 3, 4, 4, 1,\n",
       "       0, 0, 3, 2, 4, 2, 4, 2, 2, 3, 4, 4, 4, 0, 2, 0, 1, 4, 3, 3, 4, 4, 1,\n",
       "       1, 1, 4, 0, 3, 0, 2, 1, 2, 3, 1, 0, 1, 3, 3, 0, 0, 1, 2, 4, 1, 3, 4,\n",
       "       1, 1, 0, 3, 0, 1, 0, 4, 2, 2, 0, 3, 4, 4, 4, 1, 2, 2, 2, 3, 3, 1, 0,\n",
       "       0, 2, 0, 3, 3, 2, 3, 2, 1, 4, 4, 2, 1, 1, 3, 2, 1, 0, 2, 2, 0, 4, 0,\n",
       "       0, 0, 2, 4, 4, 3, 3, 2, 3, 4, 3, 4, 3, 4, 3, 0, 2, 1, 0, 1, 2, 2, 3,\n",
       "       1, 3, 0, 4, 0, 1, 2, 3, 2, 0, 3, 4, 0, 3, 4, 0, 1, 1, 0, 3, 3, 0, 2,\n",
       "       4, 0, 1, 1, 4, 0, 2, 2, 2, 0, 4, 2, 0, 3, 1, 1, 4, 2, 2, 0, 2, 4, 0,\n",
       "       3, 3, 1, 3, 4, 0, 1, 0, 1, 0, 0, 2, 2, 3, 3, 0, 0, 0, 1, 0, 2, 2, 1,\n",
       "       1, 3, 1, 2, 3, 1, 1, 1, 3, 1, 3, 2, 1, 2, 1, 2, 0, 3, 0, 4, 3, 3, 0,\n",
       "       4, 3, 0, 1, 1, 2, 4, 3, 3, 3, 4, 1, 2, 1, 1, 3, 0, 2, 3, 4, 4, 1, 1,\n",
       "       4, 2, 3, 3, 0, 3, 4, 4, 0, 3, 4, 2, 3, 2, 0, 0, 2, 3, 4, 0, 3, 0, 2,\n",
       "       2, 2, 4, 3, 1, 3, 4, 0, 2, 4, 3, 4, 1, 1, 2, 3, 0, 0, 4, 2, 0, 1, 3,\n",
       "       1, 3, 1, 1, 2, 1, 4, 0], dtype=int64)"
      ]
     },
     "execution_count": 25,
     "metadata": {},
     "output_type": "execute_result"
    }
   ],
   "source": [
    "np.array(y_pred,'int64')[:675]"
   ]
  },
  {
   "cell_type": "markdown",
   "metadata": {
    "collapsed": true
   },
   "source": [
    "##结果显示，该模型预测没有DR的情况下，表现的不佳，分别被预测成2类的有Seaborn值0.11和0.13，\n",
    "#其他的表现的很好"
   ]
  },
  {
   "cell_type": "code",
   "execution_count": 26,
   "metadata": {},
   "outputs": [
    {
     "name": "stdout",
     "output_type": "stream",
     "text": [
      "Quadratic Weight Kappa is 0.79\n",
      "\n",
      "Histogram for Prediction\n",
      "[341, 365, 383, 376, 380]\n",
      "\n",
      "Histogram for Judge\n",
      "[369, 369, 369, 369, 369]\n",
      "\n",
      "Confusion Matrix\n",
      "[276, 12, 26, 1, 26, 0, 0, 0, 0]\n",
      "[9, 350, 1, 2, 3, 0, 0, 0, 0]\n",
      "[39, 3, 330, 0, 11, 0, 0, 0, 0]\n",
      "[2, 3, 3, 364, 4, 0, 0, 0, 0]\n",
      "[43, 1, 9, 2, 325, 0, 0, 0, 0]\n",
      "[0, 0, 0, 0, 0, 0, 0, 0, 0]\n",
      "[0, 0, 0, 0, 0, 0, 0, 0, 0]\n",
      "[0, 0, 0, 0, 0, 0, 0, 0, 0]\n",
      "[0, 0, 0, 0, 0, 0, 0, 0, 0]\n"
     ]
    }
   ],
   "source": [
    "#Input values for predicitions and human judge.\n",
    "predictions = np.array(y_pred,'int64')\n",
    "human_judge = np.array(y_test,'int64') #Represented along the top of the confusion matrix.\n",
    "\n",
    "print ('Quadratic Weight Kappa is {:.2f}'.format(qwk.quadratic_weighted_kappa(predictions, human_judge)))\n",
    "\n",
    "#Show the histograms.\n",
    "print( '\\nHistogram for Prediction')\n",
    "print (qwk.histogram(predictions))\n",
    "print ('\\nHistogram for Judge')\n",
    "print (qwk.histogram(human_judge))\n",
    "\n",
    "print ('\\nConfusion Matrix')\n",
    "cm = qwk.confusion_matrix(predictions, human_judge)\n",
    "for row in cm:\n",
    "    print (row)"
   ]
  },
  {
   "cell_type": "code",
   "execution_count": 27,
   "metadata": {},
   "outputs": [
    {
     "name": "stdout",
     "output_type": "stream",
     "text": [
      "run360.85671622934643senconds\n"
     ]
    }
   ],
   "source": [
    "end=time.clock()\n",
    "print(\"run{}senconds\".format(end-start))"
   ]
  }
 ],
 "metadata": {
  "anaconda-cloud": {},
  "kernelspec": {
   "display_name": "Python 3",
   "language": "python",
   "name": "python3"
  },
  "language_info": {
   "codemirror_mode": {
    "name": "ipython",
    "version": 3.0
   },
   "file_extension": ".py",
   "mimetype": "text/x-python",
   "name": "python",
   "nbconvert_exporter": "python",
   "pygments_lexer": "ipython3",
   "version": "3.6.0"
  }
 },
 "nbformat": 4,
 "nbformat_minor": 0
}